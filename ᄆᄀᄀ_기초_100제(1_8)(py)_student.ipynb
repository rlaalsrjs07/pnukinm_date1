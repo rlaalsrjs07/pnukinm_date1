{
  "nbformat": 4,
  "nbformat_minor": 0,
  "metadata": {
    "colab": {
      "provenance": [],
      "toc_visible": true
    },
    "kernelspec": {
      "name": "python3",
      "display_name": "Python 3"
    }
  },
  "cells": [
    {
      "cell_type": "markdown",
      "metadata": {
        "id": "v4sFDDlCeYCA"
      },
      "source": [
        "# 6001 : [기초-출력] 출력하기01(설명)(py)"
      ]
    },
    {
      "cell_type": "code",
      "metadata": {
        "id": "Qkjq0vR8eWsA",
        "colab": {
          "base_uri": "https://localhost:8080/"
        },
        "outputId": "fb2fd5af-d672-463c-95fb-17fea539235c"
      },
      "source": [
        "print('Hello')"
      ],
      "execution_count": null,
      "outputs": [
        {
          "output_type": "stream",
          "name": "stdout",
          "text": [
            "Hello\n"
          ]
        }
      ]
    },
    {
      "cell_type": "markdown",
      "metadata": {
        "id": "tkcOJckBfLx2"
      },
      "source": [
        "# 6002 : [기초-출력] 출력하기02(설명)(py)"
      ]
    },
    {
      "cell_type": "code",
      "metadata": {
        "id": "bbbe3g44fUBa",
        "colab": {
          "base_uri": "https://localhost:8080/"
        },
        "outputId": "82d635bc-daf4-46c8-ddaf-694b4e89bea4"
      },
      "source": [
        "print('Hello World')"
      ],
      "execution_count": null,
      "outputs": [
        {
          "output_type": "stream",
          "name": "stdout",
          "text": [
            "Hello World\n"
          ]
        }
      ]
    },
    {
      "cell_type": "markdown",
      "metadata": {
        "id": "fLYo7wwSfX0X"
      },
      "source": [
        "# 6003 : [기초-출력] 출력하기03(설명)(py)"
      ]
    },
    {
      "cell_type": "code",
      "metadata": {
        "id": "ZqlEUPoSfa2Q",
        "colab": {
          "base_uri": "https://localhost:8080/"
        },
        "outputId": "18c5c328-e7e1-4df9-8afb-9d3adb912da4"
      },
      "source": [
        "print('Hello')\n",
        "print('World')"
      ],
      "execution_count": null,
      "outputs": [
        {
          "output_type": "stream",
          "name": "stdout",
          "text": [
            "Hello\n",
            "World\n"
          ]
        }
      ]
    },
    {
      "cell_type": "markdown",
      "metadata": {
        "id": "6nRMalqYfd7r"
      },
      "source": [
        "# 6004 : [기초-출력] 출력하기04(설명)(py)"
      ]
    },
    {
      "cell_type": "code",
      "metadata": {
        "id": "c1p3NzyofjkR",
        "colab": {
          "base_uri": "https://localhost:8080/"
        },
        "outputId": "f1a00200-d7ff-4673-cb78-dd08620c4b10"
      },
      "source": [
        "print('Hello')"
      ],
      "execution_count": null,
      "outputs": [
        {
          "output_type": "stream",
          "name": "stdout",
          "text": [
            "Hello\n"
          ]
        }
      ]
    },
    {
      "cell_type": "markdown",
      "metadata": {
        "id": "7GuAFt2rfmfV"
      },
      "source": [
        "# 6005 : [기초-출력] 출력하기05(설명)(py)"
      ]
    },
    {
      "cell_type": "code",
      "metadata": {
        "id": "E1NRFlGHfsVo",
        "colab": {
          "base_uri": "https://localhost:8080/"
        },
        "outputId": "c85c7d2f-ad8b-4c8f-9a1b-5f54542441ef"
      },
      "source": [
        "print(\"Hello World\")"
      ],
      "execution_count": null,
      "outputs": [
        {
          "output_type": "stream",
          "name": "stdout",
          "text": [
            "Hello World\n"
          ]
        }
      ]
    },
    {
      "cell_type": "markdown",
      "metadata": {
        "id": "h2c_JjORfvX5"
      },
      "source": [
        "# 6006 : [기초-출력] 출력하기06(py)"
      ]
    },
    {
      "cell_type": "code",
      "metadata": {
        "id": "GmGRxgZLfzcU",
        "colab": {
          "base_uri": "https://localhost:8080/"
        },
        "outputId": "c69273c5-9856-4568-8501-12882b3b7e33"
      },
      "source": [
        "print(\"!@#$%^&*()\")"
      ],
      "execution_count": null,
      "outputs": [
        {
          "output_type": "stream",
          "name": "stdout",
          "text": [
            "!@#$%^&*()\n"
          ]
        }
      ]
    },
    {
      "cell_type": "markdown",
      "metadata": {
        "id": "__YvsVxbf4aT"
      },
      "source": [
        "# 6007 : [기초-출력] 출력하기07(py)"
      ]
    },
    {
      "cell_type": "code",
      "metadata": {
        "id": "I0Px58Rrf6AK",
        "colab": {
          "base_uri": "https://localhost:8080/"
        },
        "outputId": "aa536ac9-9d98-4e81-a6bc-d51288b01204"
      },
      "source": [
        "print(\"C:\\Download\\'hello'.py\")"
      ],
      "execution_count": null,
      "outputs": [
        {
          "output_type": "stream",
          "name": "stdout",
          "text": [
            "C:\\Download'hello'.py\n"
          ]
        }
      ]
    },
    {
      "cell_type": "markdown",
      "metadata": {
        "id": "WmTwy_AKf9Dj"
      },
      "source": [
        "# 6008 : [기초-출력] 출력하기08(py)"
      ]
    },
    {
      "cell_type": "code",
      "metadata": {
        "id": "1reBjRnNf_7m",
        "colab": {
          "base_uri": "https://localhost:8080/"
        },
        "outputId": "44b1b661-ab4a-4d5b-c5df-2de345950e94"
      },
      "source": [
        "print(\"Hello\\nWorld\")\n"
      ],
      "execution_count": null,
      "outputs": [
        {
          "output_type": "stream",
          "name": "stdout",
          "text": [
            "Hello\n",
            "World\n"
          ]
        }
      ]
    }
  ]
}